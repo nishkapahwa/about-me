{
  "nbformat": 4,
  "nbformat_minor": 0,
  "metadata": {
    "colab": {
      "provenance": [],
      "gpuType": "T4",
      "authorship_tag": "ABX9TyOOYAURCnKTnG3wZ+TR6Szw",
      "include_colab_link": true
    },
    "kernelspec": {
      "name": "python3",
      "display_name": "Python 3"
    },
    "language_info": {
      "name": "python"
    },
    "accelerator": "GPU",
    "gpuClass": "standard"
  },
  "cells": [
    {
      "cell_type": "markdown",
      "metadata": {
        "id": "view-in-github",
        "colab_type": "text"
      },
      "source": [
        "<a href=\"https://colab.research.google.com/github/nishkapahwa/about-me/blob/main/Untitled11.ipynb\" target=\"_parent\"><img src=\"https://colab.research.google.com/assets/colab-badge.svg\" alt=\"Open In Colab\"/></a>"
      ]
    },
    {
      "cell_type": "code",
      "execution_count": null,
      "metadata": {
        "id": "6VOqL8WFhCIW"
      },
      "outputs": [],
      "source": [
        "conda create -n SiT python=3.8\n"
      ]
    },
    {
      "cell_type": "code",
      "source": [
        "conda activate SiT\n",
        "conda install pytorch torchvision torchaudio cudatoolkit=11.0 -c pytorch\n",
        "pip install -r requirements.txt\n"
      ],
      "metadata": {
        "id": "_5d_qRzFhSn2"
      },
      "execution_count": null,
      "outputs": []
    },
    {
      "cell_type": "code",
      "source": [],
      "metadata": {
        "id": "lhnMiKrihWwg"
      },
      "execution_count": null,
      "outputs": []
    }
  ]
}